{
 "cells": [
  {
   "cell_type": "markdown",
   "metadata": {},
   "source": [
    "<h2>Imports</h2>"
   ]
  },
  {
   "cell_type": "code",
   "execution_count": 18,
   "metadata": {},
   "outputs": [],
   "source": [
    "# Common libraries\n",
    "import pandas as pd\n",
    "import numpy as np\n",
    "import matplotlib.pyplot as plt\n",
    "import copy\n",
    "\n",
    "# Written files\n",
    "from loading_data import LoadData\n",
    "from augmentation import Augmentation\n",
    "from preprocessing import Preprocess\n"
   ]
  },
  {
   "cell_type": "markdown",
   "metadata": {},
   "source": [
    "<h3>1.Loading Data</h3>"
   ]
  },
  {
   "cell_type": "code",
   "execution_count": 2,
   "metadata": {},
   "outputs": [],
   "source": [
    "# Get an instance\n",
    "load_data_instance = LoadData()\n",
    "\n",
    "# Start loading .dcm files\n",
    "load_data_instance.load_data()\n",
    "\n",
    "# Saves images\n",
    "BIG_images = load_data_instance.images_big\n",
    "SMALL_images = load_data_instance.images_small\n"
   ]
  },
  {
   "cell_type": "markdown",
   "metadata": {},
   "source": [
    "<h5>Drop 1D image arrays</h5>"
   ]
  },
  {
   "cell_type": "code",
   "execution_count": 19,
   "metadata": {},
   "outputs": [
    {
     "ename": "ValueError",
     "evalue": "operands could not be broadcast together with shapes (126,128,128) (0,) ",
     "output_type": "error",
     "traceback": [
      "\u001b[1;31m---------------------------------------------------------------------------\u001b[0m",
      "\u001b[1;31mValueError\u001b[0m                                Traceback (most recent call last)",
      "Cell \u001b[1;32mIn[19], line 4\u001b[0m\n\u001b[0;32m      2\u001b[0m \u001b[38;5;28;01mfor\u001b[39;00m image \u001b[38;5;129;01min\u001b[39;00m copy\u001b[38;5;241m.\u001b[39mdeepcopy(BIG_images):\n\u001b[0;32m      3\u001b[0m     \u001b[38;5;28;01mif\u001b[39;00m image\u001b[38;5;241m.\u001b[39mndim \u001b[38;5;241m==\u001b[39m \u001b[38;5;241m1\u001b[39m:\n\u001b[1;32m----> 4\u001b[0m         BIG_images\u001b[38;5;241m.\u001b[39mremove(image)\n\u001b[0;32m      6\u001b[0m \u001b[38;5;66;03m# Remove 1D images from SMALL images\u001b[39;00m\n\u001b[0;32m      7\u001b[0m \u001b[38;5;28;01mfor\u001b[39;00m image \u001b[38;5;129;01min\u001b[39;00m copy\u001b[38;5;241m.\u001b[39mdeepcopy(SMALL_images):\n",
      "\u001b[1;31mValueError\u001b[0m: operands could not be broadcast together with shapes (126,128,128) (0,) "
     ]
    }
   ],
   "source": [
    "# Remove 1D images from BIG images\n",
    "for index in range(len(copy.deepcopy(BIG_images))):\n",
    "    if BIG_images[index].ndim == 1:\n",
    "        BIG_images.pop(index)\n",
    "\n",
    "# Remove 1D images from SMALL images\n",
    "for index in range(len(copy.deepcopy(SMALL_images))):\n",
    "    if SMALL_images[index].ndim == 1:\n",
    "        BIG_images.pop(index)"
   ]
  },
  {
   "cell_type": "markdown",
   "metadata": {},
   "source": [
    "<h3>2.Augmentation</h3>"
   ]
  },
  {
   "cell_type": "code",
   "execution_count": 9,
   "metadata": {},
   "outputs": [
    {
     "ename": "ValueError",
     "evalue": "input array should be at least 2D",
     "output_type": "error",
     "traceback": [
      "\u001b[1;31m---------------------------------------------------------------------------\u001b[0m",
      "\u001b[1;31mValueError\u001b[0m                                Traceback (most recent call last)",
      "Cell \u001b[1;32mIn[9], line 3\u001b[0m\n\u001b[0;32m      1\u001b[0m \u001b[38;5;66;03m# augmentation on BIG images\u001b[39;00m\n\u001b[0;32m      2\u001b[0m augment_BIG \u001b[38;5;241m=\u001b[39m Augmentation(BIG_images)\n\u001b[1;32m----> 3\u001b[0m \u001b[43maugment_BIG\u001b[49m\u001b[38;5;241;43m.\u001b[39;49m\u001b[43mgenerate\u001b[49m\u001b[43m(\u001b[49m\u001b[43m)\u001b[49m\n\u001b[0;32m      4\u001b[0m augment_BIG_images \u001b[38;5;241m=\u001b[39m augment_BIG\u001b[38;5;241m.\u001b[39maugmented_images\n\u001b[0;32m      6\u001b[0m \u001b[38;5;66;03m# augmentation on SMALL images\u001b[39;00m\n",
      "File \u001b[1;32me:\\tuts\\Bio_Informatics\\Research\\ICB12\\BIO_DAT_SCAN_ANALYSIS\\augmentation.py:33\u001b[0m, in \u001b[0;36mAugmentation.generate\u001b[1;34m(self)\u001b[0m\n\u001b[0;32m     31\u001b[0m \u001b[38;5;28;01mdef\u001b[39;00m \u001b[38;5;21mgenerate\u001b[39m(\u001b[38;5;28mself\u001b[39m):\n\u001b[0;32m     32\u001b[0m     \u001b[38;5;28;01mfor\u001b[39;00m image \u001b[38;5;129;01min\u001b[39;00m \u001b[38;5;28mself\u001b[39m\u001b[38;5;241m.\u001b[39mimages:\n\u001b[1;32m---> 33\u001b[0m         augmented_volume \u001b[38;5;241m=\u001b[39m \u001b[38;5;28;43mself\u001b[39;49m\u001b[38;5;241;43m.\u001b[39;49m\u001b[43mrotate\u001b[49m\u001b[43m(\u001b[49m\u001b[43mimage\u001b[49m\u001b[43m,\u001b[49m\u001b[43m \u001b[49m\u001b[43mangle\u001b[49m\u001b[38;5;241;43m=\u001b[39;49m\u001b[38;5;241;43m30\u001b[39;49m\u001b[43m)\u001b[49m  \u001b[38;5;66;03m# Rotate by 30 degrees\u001b[39;00m\n\u001b[0;32m     34\u001b[0m         augmented_volume \u001b[38;5;241m=\u001b[39m \u001b[38;5;28mself\u001b[39m\u001b[38;5;241m.\u001b[39mflip(augmented_volume, axis\u001b[38;5;241m=\u001b[39m\u001b[38;5;241m0\u001b[39m)  \u001b[38;5;66;03m# Flip along the first axis\u001b[39;00m\n\u001b[0;32m     35\u001b[0m         augmented_volume \u001b[38;5;241m=\u001b[39m \u001b[38;5;28mself\u001b[39m\u001b[38;5;241m.\u001b[39madd_noise(augmented_volume)  \u001b[38;5;66;03m# Add Gaussian noise\u001b[39;00m\n",
      "File \u001b[1;32me:\\tuts\\Bio_Informatics\\Research\\ICB12\\BIO_DAT_SCAN_ANALYSIS\\augmentation.py:15\u001b[0m, in \u001b[0;36mAugmentation.rotate\u001b[1;34m(volume, angle)\u001b[0m\n\u001b[0;32m     12\u001b[0m \u001b[38;5;129m@staticmethod\u001b[39m\n\u001b[0;32m     13\u001b[0m \u001b[38;5;28;01mdef\u001b[39;00m \u001b[38;5;21mrotate\u001b[39m(volume, angle):\n\u001b[0;32m     14\u001b[0m     \u001b[38;5;66;03m# Rotate the volume\u001b[39;00m\n\u001b[1;32m---> 15\u001b[0m     rotated_volume \u001b[38;5;241m=\u001b[39m \u001b[43mscipy\u001b[49m\u001b[38;5;241;43m.\u001b[39;49m\u001b[43mndimage\u001b[49m\u001b[38;5;241;43m.\u001b[39;49m\u001b[43mrotate\u001b[49m\u001b[43m(\u001b[49m\u001b[43mvolume\u001b[49m\u001b[43m,\u001b[49m\u001b[43m \u001b[49m\u001b[43mangle\u001b[49m\u001b[43m,\u001b[49m\u001b[43m \u001b[49m\u001b[43mreshape\u001b[49m\u001b[38;5;241;43m=\u001b[39;49m\u001b[38;5;28;43;01mFalse\u001b[39;49;00m\u001b[43m)\u001b[49m\n\u001b[0;32m     16\u001b[0m     \u001b[38;5;28;01mreturn\u001b[39;00m rotated_volume\n",
      "File \u001b[1;32me:\\tuts\\Bio_Informatics\\Research\\ICB12\\BIO_DAT_SCAN_ANALYSIS\\.env\\Lib\\site-packages\\scipy\\ndimage\\_interpolation.py:944\u001b[0m, in \u001b[0;36mrotate\u001b[1;34m(input, angle, axes, reshape, output, order, mode, cval, prefilter)\u001b[0m\n\u001b[0;32m    941\u001b[0m ndim \u001b[38;5;241m=\u001b[39m input_arr\u001b[38;5;241m.\u001b[39mndim\n\u001b[0;32m    943\u001b[0m \u001b[38;5;28;01mif\u001b[39;00m ndim \u001b[38;5;241m<\u001b[39m \u001b[38;5;241m2\u001b[39m:\n\u001b[1;32m--> 944\u001b[0m     \u001b[38;5;28;01mraise\u001b[39;00m \u001b[38;5;167;01mValueError\u001b[39;00m(\u001b[38;5;124m'\u001b[39m\u001b[38;5;124minput array should be at least 2D\u001b[39m\u001b[38;5;124m'\u001b[39m)\n\u001b[0;32m    946\u001b[0m axes \u001b[38;5;241m=\u001b[39m \u001b[38;5;28mlist\u001b[39m(axes)\n\u001b[0;32m    948\u001b[0m \u001b[38;5;28;01mif\u001b[39;00m \u001b[38;5;28mlen\u001b[39m(axes) \u001b[38;5;241m!=\u001b[39m \u001b[38;5;241m2\u001b[39m:\n",
      "\u001b[1;31mValueError\u001b[0m: input array should be at least 2D"
     ]
    }
   ],
   "source": [
    "# augmentation on BIG images\n",
    "augment_BIG = Augmentation(BIG_images)\n",
    "augment_BIG.generate()\n",
    "augment_BIG_images = augment_BIG.augmented_images\n",
    "\n",
    "# augmentation on SMALL images\n",
    "augment_SMALL = Augmentation(SMALL_images)\n",
    "augment_SMALL.generate()\n",
    "augment_SMALL_images = augment_SMALL.augmented_images"
   ]
  }
 ],
 "metadata": {
  "kernelspec": {
   "display_name": ".env",
   "language": "python",
   "name": "python3"
  },
  "language_info": {
   "codemirror_mode": {
    "name": "ipython",
    "version": 3
   },
   "file_extension": ".py",
   "mimetype": "text/x-python",
   "name": "python",
   "nbconvert_exporter": "python",
   "pygments_lexer": "ipython3",
   "version": "3.11.2"
  }
 },
 "nbformat": 4,
 "nbformat_minor": 2
}
